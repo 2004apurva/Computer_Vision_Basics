{
 "cells": [
  {
   "cell_type": "markdown",
   "metadata": {},
   "source": [
    "# Reversing The Imput Video"
   ]
  },
  {
   "cell_type": "markdown",
   "metadata": {},
   "source": [
    "1. We need to import some libraries that will be used in our implementation.\n",
    "2. Define the function named reverse_video.\n",
    "3. It creates two named windows and resizes them. \n",
    "4. It opens a video file and retrieves the total number of frames in the video.\n",
    "5. It uses a loop to iterate over each frame in the video\n",
    "6. The code sets the frame index for the video and reads the corresponding frame using OpenCV’s video capture object.\n",
    "7. The code displays the original frame of the video if it’s successfully read. It then calculates the reversed frame index to play the video in reverse. By setting the frame position to the reversed index, the reversed frame is obtained. If the reversed frame is successfully read, it’s displayed in a named window.\n",
    "8. If the reversed frame is successfully read (ret is True), the reversed frame is displayed in a named window using cv2.imshow().\n",
    "9. It ensures the proper release of resources and the closure of windows, bringing the video playback to a complete and clean end."
   ]
  },
  {
   "cell_type": "code",
   "execution_count": 1,
   "metadata": {},
   "outputs": [
    {
     "name": "stderr",
     "output_type": "stream",
     "text": [
      "OpenCV: FFMPEG: tag 0x47504a4d/'MJPG' is not supported with codec id 7 and format 'mp4 / MP4 (MPEG-4 Part 14)'\n",
      "OpenCV: FFMPEG: fallback to use tag 0x7634706d/'mp4v'\n"
     ]
    },
    {
     "name": "stdout",
     "output_type": "stream",
     "text": [
      "No. of frames are : 3921.0\n",
      "FPS is :59.94005994005994\n",
      "3900.0\n",
      "3800.0\n",
      "3700.0\n",
      "3600.0\n",
      "3500.0\n",
      "3400.0\n",
      "3300.0\n",
      "3200.0\n",
      "3100.0\n",
      "3000.0\n",
      "2900.0\n",
      "2800.0\n",
      "2700.0\n",
      "2600.0\n",
      "2500.0\n",
      "2400.0\n",
      "2300.0\n",
      "2200.0\n",
      "2100.0\n",
      "2000.0\n",
      "1900.0\n",
      "1800.0\n",
      "1700.0\n",
      "1600.0\n",
      "1500.0\n",
      "1400.0\n",
      "1300.0\n",
      "1200.0\n",
      "1100.0\n",
      "1000.0\n",
      "900.0\n",
      "800.0\n",
      "700.0\n",
      "600.0\n",
      "500.0\n",
      "400.0\n",
      "300.0\n",
      "200.0\n",
      "100.0\n",
      "0.0\n"
     ]
    }
   ],
   "source": [
    "\n",
    "\n",
    "import cv2\n",
    "cap = cv2.VideoCapture('Test1.mp4')\n",
    "\n",
    "# Getting the total number of frames in video\n",
    "\n",
    "frames = cap.get(cv2.CAP_PROP_FRAME_COUNT)\n",
    "\n",
    "# Getting Frames per second of video\n",
    "\n",
    "fps = cap.get(cv2.CAP_PROP_FPS)\n",
    "\n",
    "# Height and width of video\n",
    "\n",
    "height = cap.get(cv2.CAP_PROP_FRAME_HEIGHT)\n",
    "width = cap.get(cv2.CAP_PROP_FRAME_WIDTH)\n",
    "\n",
    "# Initiating the Output writer for Video\n",
    "\n",
    "fourcc = cv2.VideoWriter.fourcc(*'MJPG')\n",
    "out = cv2.VideoWriter('reversed.mp4', fourcc,fps ,(int(width*0.5), int(height*0.5)))\n",
    "\n",
    "print(\"No. of frames are : {}\".format(frames))\n",
    "print(\"FPS is :{}\".format(fps))\n",
    "\n",
    "# We get the index of the last frame of the video file\n",
    "\n",
    "frame_index = frames-1\n",
    "\n",
    "# Checking if the video instance is ready\n",
    "\n",
    "if(cap.isOpened()):\n",
    "\t# Reading till the end of the video\n",
    "\n",
    "\twhile(frame_index!=0):\n",
    "\t\t\n",
    "\t\t# We set the current frame position to last frame\n",
    "\n",
    "\t\tcap.set(cv2.CAP_PROP_POS_FRAMES, frame_index)\n",
    "\t\tret, frame = cap.read()\n",
    "\n",
    "\t\t# Resize the frame\n",
    "\n",
    "\t\tframe = cv2.resize(frame,(int(width*0.5), int(height*0.5)))\n",
    "\n",
    "\t\t\n",
    "\n",
    "\t\t# Writing the reversed video \n",
    "\n",
    "\t\tout.write(frame)\n",
    "\n",
    "\t\t# Decrementing Frame index at each step\n",
    "\n",
    "\t\tframe_index = frame_index-1\n",
    "\n",
    "\t\t# Printing the progress\n",
    "\n",
    "\t\tif(frame_index%100==0):\n",
    "\t\t\tprint(frame_index)\n",
    "\t\t\n",
    "\n",
    "\n",
    "out.release()\n",
    "cap.release()\n",
    "cv2.destroyAllWindows()"
   ]
  }
 ],
 "metadata": {
  "kernelspec": {
   "display_name": ".venv",
   "language": "python",
   "name": "python3"
  },
  "language_info": {
   "codemirror_mode": {
    "name": "ipython",
    "version": 3
   },
   "file_extension": ".py",
   "mimetype": "text/x-python",
   "name": "python",
   "nbconvert_exporter": "python",
   "pygments_lexer": "ipython3",
   "version": "3.12.4"
  }
 },
 "nbformat": 4,
 "nbformat_minor": 2
}
